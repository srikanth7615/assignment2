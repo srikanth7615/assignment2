{
  "nbformat": 4,
  "nbformat_minor": 0,
  "metadata": {
    "colab": {
      "provenance": [],
      "authorship_tag": "ABX9TyPmrVJJnSbh9RhmUiT5JjCx",
      "include_colab_link": true
    },
    "kernelspec": {
      "name": "python3",
      "display_name": "Python 3"
    },
    "language_info": {
      "name": "python"
    }
  },
  "cells": [
    {
      "cell_type": "markdown",
      "metadata": {
        "id": "view-in-github",
        "colab_type": "text"
      },
      "source": [
        "<a href=\"https://colab.research.google.com/github/srikanth7615/assignment2/blob/main/assignment2.ipynb\" target=\"_parent\"><img src=\"https://colab.research.google.com/assets/colab-badge.svg\" alt=\"Open In Colab\"/></a>"
      ]
    },
    {
      "cell_type": "code",
      "execution_count": null,
      "metadata": {
        "colab": {
          "base_uri": "https://localhost:8080/"
        },
        "id": "1PtLyyZ9NAWE",
        "outputId": "a26c2c09-13fd-4898-df07-59409c75049f"
      },
      "outputs": [
        {
          "output_type": "stream",
          "name": "stdout",
          "text": [
            "Enter fisrt Name:Srikanth\n",
            "enter Second Name:Narisetti\n",
            "Complete Name: SrikanthNarisetti\n",
            "output: SiatNrsti\n"
          ]
        }
      ],
      "source": [
        "def fullname(first,last):  # Takes two parameters first and last names\n",
        "  return f\"{first}{last}\"  # concatenation of first and last names\n",
        "def str_alter(full_name):\n",
        "  return full_name[::2]   # takes full_name parameter and form new string\n",
        "first =input(\"Enter fisrt Name:\")\n",
        "last = input(\"enter Second Name:\")\n",
        "full_name = fullname(first,last) # Calling fullname\n",
        "print(\"Complete Name:\",full_name)\n",
        "output = str_alter(full_name) # calling the alternative string\n",
        "print(\"output:\",output)"
      ]
    },
    {
      "cell_type": "code",
      "source": [
        "f = open(\"input.txt\",\"w\")   # creating a file\n",
        "f.write(\"Python Course\\n\")\n",
        "f.write(\"Deep learning course\\n\")\n",
        "f.close()\n",
        "f= open(\"input.txt\",\"r\")  # reading a file\n",
        "print(f.read())"
      ],
      "metadata": {
        "colab": {
          "base_uri": "https://localhost:8080/"
        },
        "id": "xR5aFey8zyUn",
        "outputId": "1da39b34-57c4-4e7b-866a-ffbc6d3e38a2"
      },
      "execution_count": 2,
      "outputs": [
        {
          "output_type": "stream",
          "name": "stdout",
          "text": [
            "Python Course\n",
            "Deep learning course\n",
            "\n"
          ]
        }
      ]
    },
    {
      "cell_type": "code",
      "source": [
        "from collections import Counter  # importing the file\n",
        "with open('input.txt', 'r') as file:   # opening the file\n",
        "    lines = file.readlines()  # read all lines of the files\n",
        "word_per_line = []\n",
        "for line in lines:\n",
        "    words = line.strip().split() # split() used to split the words # removes the white spaces\n",
        "    word_per_line.append(Counter(words)) # uses the counter to count the occurance of each word\n",
        "for line in lines:\n",
        "    print(line.strip()) # print the lines after white space removing\n",
        "print(\"Word_Count:\") # print the word count\n",
        "for word, count in Counter(word for wc in word_per_line for word in wc).items():\n",
        "    print(f\"{word}: {count}\")\n",
        "with open('output.txt', 'w') as output_file:\n",
        "    for line in lines:\n",
        "        output_file.write(line)\n",
        "    output_file.write(\"Word_Count:\\n\") # stores the output in output.txt file\n",
        "    for word, count in Counter(word for wc in word_per_line for word in wc).items():\n",
        "        output_file.write(f\"{word}: {count}\\n\")"
      ],
      "metadata": {
        "colab": {
          "base_uri": "https://localhost:8080/"
        },
        "id": "c1E8_6Bz0652",
        "outputId": "d5904da7-d7e7-4ed1-e0ce-2213b354a559"
      },
      "execution_count": 7,
      "outputs": [
        {
          "output_type": "stream",
          "name": "stdout",
          "text": [
            "Python Course\n",
            "Deep learning course\n",
            "Word_Count:\n",
            "Python: 1\n",
            "Course: 1\n",
            "Deep: 1\n",
            "learning: 1\n",
            "course: 1\n"
          ]
        }
      ]
    },
    {
      "cell_type": "code",
      "source": [
        "\n",
        "def convert_heights(heights_inches): # takes the heights in inches\n",
        "    return [round(height * 2.54, 2) for height in heights_inches] # convert height inches to cm\n",
        "num_cust = int(input(\"No.of customers: \"))\n",
        "heights_inches = [float(input(f\"Enter height in inches for customer {i + 1}: \")) for i in range(num_cust)]\n",
        "heights_cm = convert_heights(heights_inches)\n",
        "print(\"Heights in Centimeters:\", heights_cm)"
      ],
      "metadata": {
        "colab": {
          "base_uri": "https://localhost:8080/"
        },
        "id": "lqyGP2G-2pNX",
        "outputId": "b9600b1b-83fd-4fab-ee81-590f47806083"
      },
      "execution_count": 12,
      "outputs": [
        {
          "output_type": "stream",
          "name": "stdout",
          "text": [
            "No.of customers: 4\n",
            "Enter height in inches for customer 1: 150\n",
            "Enter height in inches for customer 2: 155\n",
            "Enter height in inches for customer 3: 145\n",
            "Enter height in inches for customer 4: 148\n",
            "Heights in Centimeters: [381.0, 393.7, 368.3, 375.92]\n"
          ]
        }
      ]
    }
  ]
}